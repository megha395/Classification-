{
  "cells": [
    {
      "cell_type": "markdown",
      "source": [
        "# **Importing Libraries**"
      ],
      "metadata": {
        "id": "j9F2Ur8Z9TE9"
      }
    },
    {
      "cell_type": "code",
      "source": [
        "!pip install sentence_transformers"
      ],
      "metadata": {
        "colab": {
          "base_uri": "https://localhost:8080/"
        },
        "id": "_Z3017G_OaU4",
        "outputId": "fa10ace1-9585-4ae2-a4f8-4bb0b9633781"
      },
      "execution_count": null,
      "outputs": [
        {
          "output_type": "stream",
          "name": "stdout",
          "text": [
            "Looking in indexes: https://pypi.org/simple, https://us-python.pkg.dev/colab-wheels/public/simple/\n",
            "Collecting sentence_transformers\n",
            "  Downloading sentence-transformers-2.2.0.tar.gz (79 kB)\n",
            "\u001b[K     |████████████████████████████████| 79 kB 8.1 MB/s \n",
            "\u001b[?25hCollecting transformers<5.0.0,>=4.6.0\n",
            "  Downloading transformers-4.19.2-py3-none-any.whl (4.2 MB)\n",
            "\u001b[K     |████████████████████████████████| 4.2 MB 40.0 MB/s \n",
            "\u001b[?25hRequirement already satisfied: tqdm in /usr/local/lib/python3.7/dist-packages (from sentence_transformers) (4.64.0)\n",
            "Requirement already satisfied: torch>=1.6.0 in /usr/local/lib/python3.7/dist-packages (from sentence_transformers) (1.11.0+cu113)\n",
            "Requirement already satisfied: torchvision in /usr/local/lib/python3.7/dist-packages (from sentence_transformers) (0.12.0+cu113)\n",
            "Requirement already satisfied: numpy in /usr/local/lib/python3.7/dist-packages (from sentence_transformers) (1.21.6)\n",
            "Requirement already satisfied: scikit-learn in /usr/local/lib/python3.7/dist-packages (from sentence_transformers) (1.0.2)\n",
            "Requirement already satisfied: scipy in /usr/local/lib/python3.7/dist-packages (from sentence_transformers) (1.4.1)\n",
            "Requirement already satisfied: nltk in /usr/local/lib/python3.7/dist-packages (from sentence_transformers) (3.2.5)\n",
            "Collecting sentencepiece\n",
            "  Downloading sentencepiece-0.1.96-cp37-cp37m-manylinux_2_17_x86_64.manylinux2014_x86_64.whl (1.2 MB)\n",
            "\u001b[K     |████████████████████████████████| 1.2 MB 45.8 MB/s \n",
            "\u001b[?25hCollecting huggingface-hub\n",
            "  Downloading huggingface_hub-0.7.0-py3-none-any.whl (86 kB)\n",
            "\u001b[K     |████████████████████████████████| 86 kB 6.2 MB/s \n",
            "\u001b[?25hRequirement already satisfied: typing-extensions in /usr/local/lib/python3.7/dist-packages (from torch>=1.6.0->sentence_transformers) (4.2.0)\n",
            "Requirement already satisfied: importlib-metadata in /usr/local/lib/python3.7/dist-packages (from transformers<5.0.0,>=4.6.0->sentence_transformers) (4.11.4)\n",
            "Requirement already satisfied: filelock in /usr/local/lib/python3.7/dist-packages (from transformers<5.0.0,>=4.6.0->sentence_transformers) (3.7.0)\n",
            "Requirement already satisfied: regex!=2019.12.17 in /usr/local/lib/python3.7/dist-packages (from transformers<5.0.0,>=4.6.0->sentence_transformers) (2019.12.20)\n",
            "Collecting tokenizers!=0.11.3,<0.13,>=0.11.1\n",
            "  Downloading tokenizers-0.12.1-cp37-cp37m-manylinux_2_12_x86_64.manylinux2010_x86_64.whl (6.6 MB)\n",
            "\u001b[K     |████████████████████████████████| 6.6 MB 43.9 MB/s \n",
            "\u001b[?25hCollecting pyyaml>=5.1\n",
            "  Downloading PyYAML-6.0-cp37-cp37m-manylinux_2_5_x86_64.manylinux1_x86_64.manylinux_2_12_x86_64.manylinux2010_x86_64.whl (596 kB)\n",
            "\u001b[K     |████████████████████████████████| 596 kB 42.6 MB/s \n",
            "\u001b[?25hRequirement already satisfied: requests in /usr/local/lib/python3.7/dist-packages (from transformers<5.0.0,>=4.6.0->sentence_transformers) (2.23.0)\n",
            "Requirement already satisfied: packaging>=20.0 in /usr/local/lib/python3.7/dist-packages (from transformers<5.0.0,>=4.6.0->sentence_transformers) (21.3)\n",
            "Requirement already satisfied: pyparsing!=3.0.5,>=2.0.2 in /usr/local/lib/python3.7/dist-packages (from packaging>=20.0->transformers<5.0.0,>=4.6.0->sentence_transformers) (3.0.9)\n",
            "Requirement already satisfied: zipp>=0.5 in /usr/local/lib/python3.7/dist-packages (from importlib-metadata->transformers<5.0.0,>=4.6.0->sentence_transformers) (3.8.0)\n",
            "Requirement already satisfied: six in /usr/local/lib/python3.7/dist-packages (from nltk->sentence_transformers) (1.15.0)\n",
            "Requirement already satisfied: urllib3!=1.25.0,!=1.25.1,<1.26,>=1.21.1 in /usr/local/lib/python3.7/dist-packages (from requests->transformers<5.0.0,>=4.6.0->sentence_transformers) (1.24.3)\n",
            "Requirement already satisfied: chardet<4,>=3.0.2 in /usr/local/lib/python3.7/dist-packages (from requests->transformers<5.0.0,>=4.6.0->sentence_transformers) (3.0.4)\n",
            "Requirement already satisfied: idna<3,>=2.5 in /usr/local/lib/python3.7/dist-packages (from requests->transformers<5.0.0,>=4.6.0->sentence_transformers) (2.10)\n",
            "Requirement already satisfied: certifi>=2017.4.17 in /usr/local/lib/python3.7/dist-packages (from requests->transformers<5.0.0,>=4.6.0->sentence_transformers) (2022.5.18.1)\n",
            "Requirement already satisfied: threadpoolctl>=2.0.0 in /usr/local/lib/python3.7/dist-packages (from scikit-learn->sentence_transformers) (3.1.0)\n",
            "Requirement already satisfied: joblib>=0.11 in /usr/local/lib/python3.7/dist-packages (from scikit-learn->sentence_transformers) (1.1.0)\n",
            "Requirement already satisfied: pillow!=8.3.*,>=5.3.0 in /usr/local/lib/python3.7/dist-packages (from torchvision->sentence_transformers) (7.1.2)\n",
            "Building wheels for collected packages: sentence-transformers\n",
            "  Building wheel for sentence-transformers (setup.py) ... \u001b[?25l\u001b[?25hdone\n",
            "  Created wheel for sentence-transformers: filename=sentence_transformers-2.2.0-py3-none-any.whl size=120747 sha256=f8ba024c447a1aed7190e1fecf92067d6a596af84c0e45e2c7a6e5cf7a0e6071\n",
            "  Stored in directory: /root/.cache/pip/wheels/83/c0/df/b6873ab7aac3f2465aa9144b6b4c41c4391cfecc027c8b07e7\n",
            "Successfully built sentence-transformers\n",
            "Installing collected packages: pyyaml, tokenizers, huggingface-hub, transformers, sentencepiece, sentence-transformers\n",
            "  Attempting uninstall: pyyaml\n",
            "    Found existing installation: PyYAML 3.13\n",
            "    Uninstalling PyYAML-3.13:\n",
            "      Successfully uninstalled PyYAML-3.13\n",
            "Successfully installed huggingface-hub-0.7.0 pyyaml-6.0 sentence-transformers-2.2.0 sentencepiece-0.1.96 tokenizers-0.12.1 transformers-4.19.2\n"
          ]
        }
      ]
    },
    {
      "cell_type": "code",
      "source": [
        "\n",
        "from sklearn.metrics.pairwise import cosine_similarity\n",
        "import pandas as pd"
      ],
      "metadata": {
        "id": "toKFv9tqKTHK"
      },
      "execution_count": null,
      "outputs": []
    },
    {
      "cell_type": "code",
      "execution_count": null,
      "metadata": {
        "colab": {
          "base_uri": "https://localhost:8080/"
        },
        "id": "78ZnhDnbWKGC",
        "outputId": "129380b5-0945-42c9-bd7e-02f4bd6f4192"
      },
      "outputs": [
        {
          "output_type": "stream",
          "name": "stdout",
          "text": [
            "[nltk_data] Downloading package punkt to /root/nltk_data...\n",
            "[nltk_data]   Unzipping tokenizers/punkt.zip.\n",
            "[nltk_data] Downloading package wordnet to /root/nltk_data...\n",
            "[nltk_data]   Unzipping corpora/wordnet.zip.\n",
            "[nltk_data] Downloading package stopwords to /root/nltk_data...\n",
            "[nltk_data]   Unzipping corpora/stopwords.zip.\n"
          ]
        }
      ],
      "source": [
        "import nltk\n",
        "import re\n",
        "\n",
        "from nltk.stem import WordNetLemmatizer\n",
        "nltk.download('punkt')\n",
        "nltk.download('wordnet')\n",
        "\n",
        "from nltk.corpus import stopwords\n",
        "nltk.download('stopwords')\n",
        "stop_words = set(stopwords.words('english'))\n"
      ]
    },
    {
      "cell_type": "markdown",
      "source": [
        "# **Loading target dataset**"
      ],
      "metadata": {
        "id": "VPAezB8A9aYK"
      }
    },
    {
      "cell_type": "code",
      "execution_count": null,
      "metadata": {
        "id": "UIUypSKpm18y"
      },
      "outputs": [],
      "source": [
        "# Load test data\n",
        "import json\n",
        "with open('accesslog.json') as in_file:\n",
        "    data = json.load(in_file)"
      ]
    },
    {
      "cell_type": "code",
      "source": [
        "tags = []\n",
        "for i in range(len(data)):\n",
        "  tags.append(data[i]['_source']['tags'])"
      ],
      "metadata": {
        "id": "dnKF_Lm6i4wo"
      },
      "execution_count": null,
      "outputs": []
    },
    {
      "cell_type": "code",
      "source": [
        "df1 = pd.DataFrame()\n",
        "df1['tags'] = tags"
      ],
      "metadata": {
        "id": "VP_KFnO5jDP9"
      },
      "execution_count": null,
      "outputs": []
    },
    {
      "cell_type": "code",
      "source": [
        "df1"
      ],
      "metadata": {
        "colab": {
          "base_uri": "https://localhost:8080/",
          "height": 424
        },
        "id": "RAXWKuRkkDpY",
        "outputId": "2a7572c3-1c62-4626-a83d-1aab1673bffb"
      },
      "execution_count": null,
      "outputs": [
        {
          "output_type": "execute_result",
          "data": {
            "text/plain": [
              "                                                 tags\n",
              "0                            [Possible SQL Injection]\n",
              "1                                                  []\n",
              "2                            [Possible SQL Injection]\n",
              "3   [Possible SQL Injection, Possible Cross Site S...\n",
              "4                                                  []\n",
              "..                                                ...\n",
              "82                                [4XX Client Errors]\n",
              "83                                                 []\n",
              "84  [Possible Cross Site Scripting, 4XX Client Err...\n",
              "85  [Possible Cross Site Scripting, 4XX Client Err...\n",
              "86                                [4XX Client Errors]\n",
              "\n",
              "[87 rows x 1 columns]"
            ],
            "text/html": [
              "\n",
              "  <div id=\"df-52b14267-d187-485d-be83-bcc55d25ad88\">\n",
              "    <div class=\"colab-df-container\">\n",
              "      <div>\n",
              "<style scoped>\n",
              "    .dataframe tbody tr th:only-of-type {\n",
              "        vertical-align: middle;\n",
              "    }\n",
              "\n",
              "    .dataframe tbody tr th {\n",
              "        vertical-align: top;\n",
              "    }\n",
              "\n",
              "    .dataframe thead th {\n",
              "        text-align: right;\n",
              "    }\n",
              "</style>\n",
              "<table border=\"1\" class=\"dataframe\">\n",
              "  <thead>\n",
              "    <tr style=\"text-align: right;\">\n",
              "      <th></th>\n",
              "      <th>tags</th>\n",
              "    </tr>\n",
              "  </thead>\n",
              "  <tbody>\n",
              "    <tr>\n",
              "      <th>0</th>\n",
              "      <td>[Possible SQL Injection]</td>\n",
              "    </tr>\n",
              "    <tr>\n",
              "      <th>1</th>\n",
              "      <td>[]</td>\n",
              "    </tr>\n",
              "    <tr>\n",
              "      <th>2</th>\n",
              "      <td>[Possible SQL Injection]</td>\n",
              "    </tr>\n",
              "    <tr>\n",
              "      <th>3</th>\n",
              "      <td>[Possible SQL Injection, Possible Cross Site S...</td>\n",
              "    </tr>\n",
              "    <tr>\n",
              "      <th>4</th>\n",
              "      <td>[]</td>\n",
              "    </tr>\n",
              "    <tr>\n",
              "      <th>...</th>\n",
              "      <td>...</td>\n",
              "    </tr>\n",
              "    <tr>\n",
              "      <th>82</th>\n",
              "      <td>[4XX Client Errors]</td>\n",
              "    </tr>\n",
              "    <tr>\n",
              "      <th>83</th>\n",
              "      <td>[]</td>\n",
              "    </tr>\n",
              "    <tr>\n",
              "      <th>84</th>\n",
              "      <td>[Possible Cross Site Scripting, 4XX Client Err...</td>\n",
              "    </tr>\n",
              "    <tr>\n",
              "      <th>85</th>\n",
              "      <td>[Possible Cross Site Scripting, 4XX Client Err...</td>\n",
              "    </tr>\n",
              "    <tr>\n",
              "      <th>86</th>\n",
              "      <td>[4XX Client Errors]</td>\n",
              "    </tr>\n",
              "  </tbody>\n",
              "</table>\n",
              "<p>87 rows × 1 columns</p>\n",
              "</div>\n",
              "      <button class=\"colab-df-convert\" onclick=\"convertToInteractive('df-52b14267-d187-485d-be83-bcc55d25ad88')\"\n",
              "              title=\"Convert this dataframe to an interactive table.\"\n",
              "              style=\"display:none;\">\n",
              "        \n",
              "  <svg xmlns=\"http://www.w3.org/2000/svg\" height=\"24px\"viewBox=\"0 0 24 24\"\n",
              "       width=\"24px\">\n",
              "    <path d=\"M0 0h24v24H0V0z\" fill=\"none\"/>\n",
              "    <path d=\"M18.56 5.44l.94 2.06.94-2.06 2.06-.94-2.06-.94-.94-2.06-.94 2.06-2.06.94zm-11 1L8.5 8.5l.94-2.06 2.06-.94-2.06-.94L8.5 2.5l-.94 2.06-2.06.94zm10 10l.94 2.06.94-2.06 2.06-.94-2.06-.94-.94-2.06-.94 2.06-2.06.94z\"/><path d=\"M17.41 7.96l-1.37-1.37c-.4-.4-.92-.59-1.43-.59-.52 0-1.04.2-1.43.59L10.3 9.45l-7.72 7.72c-.78.78-.78 2.05 0 2.83L4 21.41c.39.39.9.59 1.41.59.51 0 1.02-.2 1.41-.59l7.78-7.78 2.81-2.81c.8-.78.8-2.07 0-2.86zM5.41 20L4 18.59l7.72-7.72 1.47 1.35L5.41 20z\"/>\n",
              "  </svg>\n",
              "      </button>\n",
              "      \n",
              "  <style>\n",
              "    .colab-df-container {\n",
              "      display:flex;\n",
              "      flex-wrap:wrap;\n",
              "      gap: 12px;\n",
              "    }\n",
              "\n",
              "    .colab-df-convert {\n",
              "      background-color: #E8F0FE;\n",
              "      border: none;\n",
              "      border-radius: 50%;\n",
              "      cursor: pointer;\n",
              "      display: none;\n",
              "      fill: #1967D2;\n",
              "      height: 32px;\n",
              "      padding: 0 0 0 0;\n",
              "      width: 32px;\n",
              "    }\n",
              "\n",
              "    .colab-df-convert:hover {\n",
              "      background-color: #E2EBFA;\n",
              "      box-shadow: 0px 1px 2px rgba(60, 64, 67, 0.3), 0px 1px 3px 1px rgba(60, 64, 67, 0.15);\n",
              "      fill: #174EA6;\n",
              "    }\n",
              "\n",
              "    [theme=dark] .colab-df-convert {\n",
              "      background-color: #3B4455;\n",
              "      fill: #D2E3FC;\n",
              "    }\n",
              "\n",
              "    [theme=dark] .colab-df-convert:hover {\n",
              "      background-color: #434B5C;\n",
              "      box-shadow: 0px 1px 3px 1px rgba(0, 0, 0, 0.15);\n",
              "      filter: drop-shadow(0px 1px 2px rgba(0, 0, 0, 0.3));\n",
              "      fill: #FFFFFF;\n",
              "    }\n",
              "  </style>\n",
              "\n",
              "      <script>\n",
              "        const buttonEl =\n",
              "          document.querySelector('#df-52b14267-d187-485d-be83-bcc55d25ad88 button.colab-df-convert');\n",
              "        buttonEl.style.display =\n",
              "          google.colab.kernel.accessAllowed ? 'block' : 'none';\n",
              "\n",
              "        async function convertToInteractive(key) {\n",
              "          const element = document.querySelector('#df-52b14267-d187-485d-be83-bcc55d25ad88');\n",
              "          const dataTable =\n",
              "            await google.colab.kernel.invokeFunction('convertToInteractive',\n",
              "                                                     [key], {});\n",
              "          if (!dataTable) return;\n",
              "\n",
              "          const docLinkHtml = 'Like what you see? Visit the ' +\n",
              "            '<a target=\"_blank\" href=https://colab.research.google.com/notebooks/data_table.ipynb>data table notebook</a>'\n",
              "            + ' to learn more about interactive tables.';\n",
              "          element.innerHTML = '';\n",
              "          dataTable['output_type'] = 'display_data';\n",
              "          await google.colab.output.renderOutput(dataTable, element);\n",
              "          const docLink = document.createElement('div');\n",
              "          docLink.innerHTML = docLinkHtml;\n",
              "          element.appendChild(docLink);\n",
              "        }\n",
              "      </script>\n",
              "    </div>\n",
              "  </div>\n",
              "  "
            ]
          },
          "metadata": {},
          "execution_count": 7
        }
      ]
    },
    {
      "cell_type": "markdown",
      "source": [
        "# **Loading Training dataset**"
      ],
      "metadata": {
        "id": "ac1up0bO9fXQ"
      }
    },
    {
      "cell_type": "code",
      "source": [
        "df = pd.read_csv('Alert_file2.csv')\n",
        "df = df.drop('Unnamed: 0', axis=1)"
      ],
      "metadata": {
        "id": "JRC_OfERUBOo"
      },
      "execution_count": null,
      "outputs": []
    },
    {
      "cell_type": "code",
      "source": [
        "df['message'] = df['message'].apply(lambda x: x.lower())"
      ],
      "metadata": {
        "id": "D5biEm9_WpjL"
      },
      "execution_count": null,
      "outputs": []
    },
    {
      "cell_type": "code",
      "source": [
        "df['tags'] = df1['tags']"
      ],
      "metadata": {
        "id": "XiZwx4hijJ5x"
      },
      "execution_count": null,
      "outputs": []
    },
    {
      "cell_type": "code",
      "source": [
        "display(df)"
      ],
      "metadata": {
        "colab": {
          "base_uri": "https://localhost:8080/",
          "height": 424
        },
        "id": "Y0dz_YQLVyVy",
        "outputId": "49c392dc-43f7-44bc-94e3-7ebff9912441"
      },
      "execution_count": null,
      "outputs": [
        {
          "output_type": "display_data",
          "data": {
            "text/plain": [
              "                                              message      source_ip  \\\n",
              "0   102281393 16aug2021114727 0530 get union http1...  51.222.253.11   \n",
              "1   102281393 16aug2021114727 0530 get faviconico ...    10.228.0.95   \n",
              "2   102281393 16aug2021114732 0530 get 20select 20...   10.208.0.229   \n",
              "3   102281393 16aug2021112839 0530 get unionselect...   10.208.0.229   \n",
              "4   102281393 16aug2021112843 0530 get waitfor 20d...    10.228.0.95   \n",
              "..                                                ...            ...   \n",
              "82  102281394 17aug2021162151 0530 get faviconico ...   114.55.9.245   \n",
              "83  102281394 17aug2021162154 0530 get http11 200 ...    10.228.0.95   \n",
              "84  102281394 17aug2021162205 0530 get alert http1...    10.228.0.95   \n",
              "85  102281394 17aug2021162217 0530 get 3cscript 3e...   114.55.9.245   \n",
              "86  102281394 17aug2021162226 0530 get 12565sdhfds...    10.228.0.95   \n",
              "\n",
              "                                                 tags  \n",
              "0                            [Possible SQL Injection]  \n",
              "1                                                  []  \n",
              "2                            [Possible SQL Injection]  \n",
              "3   [Possible SQL Injection, Possible Cross Site S...  \n",
              "4                                                  []  \n",
              "..                                                ...  \n",
              "82                                [4XX Client Errors]  \n",
              "83                                                 []  \n",
              "84  [Possible Cross Site Scripting, 4XX Client Err...  \n",
              "85  [Possible Cross Site Scripting, 4XX Client Err...  \n",
              "86                                [4XX Client Errors]  \n",
              "\n",
              "[87 rows x 3 columns]"
            ],
            "text/html": [
              "\n",
              "  <div id=\"df-e954b2ac-ca0d-45c3-a906-817e0db42d58\">\n",
              "    <div class=\"colab-df-container\">\n",
              "      <div>\n",
              "<style scoped>\n",
              "    .dataframe tbody tr th:only-of-type {\n",
              "        vertical-align: middle;\n",
              "    }\n",
              "\n",
              "    .dataframe tbody tr th {\n",
              "        vertical-align: top;\n",
              "    }\n",
              "\n",
              "    .dataframe thead th {\n",
              "        text-align: right;\n",
              "    }\n",
              "</style>\n",
              "<table border=\"1\" class=\"dataframe\">\n",
              "  <thead>\n",
              "    <tr style=\"text-align: right;\">\n",
              "      <th></th>\n",
              "      <th>message</th>\n",
              "      <th>source_ip</th>\n",
              "      <th>tags</th>\n",
              "    </tr>\n",
              "  </thead>\n",
              "  <tbody>\n",
              "    <tr>\n",
              "      <th>0</th>\n",
              "      <td>102281393 16aug2021114727 0530 get union http1...</td>\n",
              "      <td>51.222.253.11</td>\n",
              "      <td>[Possible SQL Injection]</td>\n",
              "    </tr>\n",
              "    <tr>\n",
              "      <th>1</th>\n",
              "      <td>102281393 16aug2021114727 0530 get faviconico ...</td>\n",
              "      <td>10.228.0.95</td>\n",
              "      <td>[]</td>\n",
              "    </tr>\n",
              "    <tr>\n",
              "      <th>2</th>\n",
              "      <td>102281393 16aug2021114732 0530 get 20select 20...</td>\n",
              "      <td>10.208.0.229</td>\n",
              "      <td>[Possible SQL Injection]</td>\n",
              "    </tr>\n",
              "    <tr>\n",
              "      <th>3</th>\n",
              "      <td>102281393 16aug2021112839 0530 get unionselect...</td>\n",
              "      <td>10.208.0.229</td>\n",
              "      <td>[Possible SQL Injection, Possible Cross Site S...</td>\n",
              "    </tr>\n",
              "    <tr>\n",
              "      <th>4</th>\n",
              "      <td>102281393 16aug2021112843 0530 get waitfor 20d...</td>\n",
              "      <td>10.228.0.95</td>\n",
              "      <td>[]</td>\n",
              "    </tr>\n",
              "    <tr>\n",
              "      <th>...</th>\n",
              "      <td>...</td>\n",
              "      <td>...</td>\n",
              "      <td>...</td>\n",
              "    </tr>\n",
              "    <tr>\n",
              "      <th>82</th>\n",
              "      <td>102281394 17aug2021162151 0530 get faviconico ...</td>\n",
              "      <td>114.55.9.245</td>\n",
              "      <td>[4XX Client Errors]</td>\n",
              "    </tr>\n",
              "    <tr>\n",
              "      <th>83</th>\n",
              "      <td>102281394 17aug2021162154 0530 get http11 200 ...</td>\n",
              "      <td>10.228.0.95</td>\n",
              "      <td>[]</td>\n",
              "    </tr>\n",
              "    <tr>\n",
              "      <th>84</th>\n",
              "      <td>102281394 17aug2021162205 0530 get alert http1...</td>\n",
              "      <td>10.228.0.95</td>\n",
              "      <td>[Possible Cross Site Scripting, 4XX Client Err...</td>\n",
              "    </tr>\n",
              "    <tr>\n",
              "      <th>85</th>\n",
              "      <td>102281394 17aug2021162217 0530 get 3cscript 3e...</td>\n",
              "      <td>114.55.9.245</td>\n",
              "      <td>[Possible Cross Site Scripting, 4XX Client Err...</td>\n",
              "    </tr>\n",
              "    <tr>\n",
              "      <th>86</th>\n",
              "      <td>102281394 17aug2021162226 0530 get 12565sdhfds...</td>\n",
              "      <td>10.228.0.95</td>\n",
              "      <td>[4XX Client Errors]</td>\n",
              "    </tr>\n",
              "  </tbody>\n",
              "</table>\n",
              "<p>87 rows × 3 columns</p>\n",
              "</div>\n",
              "      <button class=\"colab-df-convert\" onclick=\"convertToInteractive('df-e954b2ac-ca0d-45c3-a906-817e0db42d58')\"\n",
              "              title=\"Convert this dataframe to an interactive table.\"\n",
              "              style=\"display:none;\">\n",
              "        \n",
              "  <svg xmlns=\"http://www.w3.org/2000/svg\" height=\"24px\"viewBox=\"0 0 24 24\"\n",
              "       width=\"24px\">\n",
              "    <path d=\"M0 0h24v24H0V0z\" fill=\"none\"/>\n",
              "    <path d=\"M18.56 5.44l.94 2.06.94-2.06 2.06-.94-2.06-.94-.94-2.06-.94 2.06-2.06.94zm-11 1L8.5 8.5l.94-2.06 2.06-.94-2.06-.94L8.5 2.5l-.94 2.06-2.06.94zm10 10l.94 2.06.94-2.06 2.06-.94-2.06-.94-.94-2.06-.94 2.06-2.06.94z\"/><path d=\"M17.41 7.96l-1.37-1.37c-.4-.4-.92-.59-1.43-.59-.52 0-1.04.2-1.43.59L10.3 9.45l-7.72 7.72c-.78.78-.78 2.05 0 2.83L4 21.41c.39.39.9.59 1.41.59.51 0 1.02-.2 1.41-.59l7.78-7.78 2.81-2.81c.8-.78.8-2.07 0-2.86zM5.41 20L4 18.59l7.72-7.72 1.47 1.35L5.41 20z\"/>\n",
              "  </svg>\n",
              "      </button>\n",
              "      \n",
              "  <style>\n",
              "    .colab-df-container {\n",
              "      display:flex;\n",
              "      flex-wrap:wrap;\n",
              "      gap: 12px;\n",
              "    }\n",
              "\n",
              "    .colab-df-convert {\n",
              "      background-color: #E8F0FE;\n",
              "      border: none;\n",
              "      border-radius: 50%;\n",
              "      cursor: pointer;\n",
              "      display: none;\n",
              "      fill: #1967D2;\n",
              "      height: 32px;\n",
              "      padding: 0 0 0 0;\n",
              "      width: 32px;\n",
              "    }\n",
              "\n",
              "    .colab-df-convert:hover {\n",
              "      background-color: #E2EBFA;\n",
              "      box-shadow: 0px 1px 2px rgba(60, 64, 67, 0.3), 0px 1px 3px 1px rgba(60, 64, 67, 0.15);\n",
              "      fill: #174EA6;\n",
              "    }\n",
              "\n",
              "    [theme=dark] .colab-df-convert {\n",
              "      background-color: #3B4455;\n",
              "      fill: #D2E3FC;\n",
              "    }\n",
              "\n",
              "    [theme=dark] .colab-df-convert:hover {\n",
              "      background-color: #434B5C;\n",
              "      box-shadow: 0px 1px 3px 1px rgba(0, 0, 0, 0.15);\n",
              "      filter: drop-shadow(0px 1px 2px rgba(0, 0, 0, 0.3));\n",
              "      fill: #FFFFFF;\n",
              "    }\n",
              "  </style>\n",
              "\n",
              "      <script>\n",
              "        const buttonEl =\n",
              "          document.querySelector('#df-e954b2ac-ca0d-45c3-a906-817e0db42d58 button.colab-df-convert');\n",
              "        buttonEl.style.display =\n",
              "          google.colab.kernel.accessAllowed ? 'block' : 'none';\n",
              "\n",
              "        async function convertToInteractive(key) {\n",
              "          const element = document.querySelector('#df-e954b2ac-ca0d-45c3-a906-817e0db42d58');\n",
              "          const dataTable =\n",
              "            await google.colab.kernel.invokeFunction('convertToInteractive',\n",
              "                                                     [key], {});\n",
              "          if (!dataTable) return;\n",
              "\n",
              "          const docLinkHtml = 'Like what you see? Visit the ' +\n",
              "            '<a target=\"_blank\" href=https://colab.research.google.com/notebooks/data_table.ipynb>data table notebook</a>'\n",
              "            + ' to learn more about interactive tables.';\n",
              "          element.innerHTML = '';\n",
              "          dataTable['output_type'] = 'display_data';\n",
              "          await google.colab.output.renderOutput(dataTable, element);\n",
              "          const docLink = document.createElement('div');\n",
              "          docLink.innerHTML = docLinkHtml;\n",
              "          element.appendChild(docLink);\n",
              "        }\n",
              "      </script>\n",
              "    </div>\n",
              "  </div>\n",
              "  "
            ]
          },
          "metadata": {}
        }
      ]
    },
    {
      "cell_type": "code",
      "source": [
        "documents = df['message']"
      ],
      "metadata": {
        "id": "aCfrpmSfWdNO"
      },
      "execution_count": null,
      "outputs": []
    },
    {
      "cell_type": "markdown",
      "source": [
        "# **Data preprocessing**"
      ],
      "metadata": {
        "id": "Uea4fEke9pwQ"
      }
    },
    {
      "cell_type": "code",
      "execution_count": null,
      "metadata": {
        "id": "wLrpHIv03qCe"
      },
      "outputs": [],
      "source": [
        "def preprocessing(input_documents):\n",
        "     wordnet_lemmatizer = WordNetLemmatizer()\n",
        "     punctuations = set('''!()-[]{};:'\"\\,<>.`/?``#$%^&*_~''')                         \n",
        "    \n",
        "     docs = []\n",
        "     for sentence in input_documents:\n",
        "         sentence = sentence.lower()\n",
        "         string_list = []\n",
        "         sentence_words = nltk.word_tokenize(sentence)\n",
        "         for word in sentence_words:\n",
        "             \n",
        "             lemmatized_word  =  wordnet_lemmatizer.lemmatize(word)\n",
        "             \n",
        "             lemmatized_word = re.sub(r\"[^0-9A-Za-z]+\", \"\", lemmatized_word)             \n",
        "             lemmatized_word = re.sub(r\"-\", \"\", lemmatized_word)\n",
        "             if lemmatized_word not in stop_words and punctuations:\n",
        "                 string_list.append(lemmatized_word)\n",
        "         final_word = \" \".join(string_list)\n",
        "         final_word = re.sub(\"[\\t ]{2,}\", \" \", final_word)\n",
        "   \n",
        "         docs.append(final_word)\n",
        "         \n",
        "     return docs"
      ]
    },
    {
      "cell_type": "code",
      "execution_count": null,
      "metadata": {
        "colab": {
          "base_uri": "https://localhost:8080/"
        },
        "id": "PkSXh_cSnAN3",
        "outputId": "9c35e490-60e8-4581-cf1a-5fa0989f1a3b"
      },
      "outputs": [
        {
          "output_type": "stream",
          "name": "stdout",
          "text": [
            "87 documents\n"
          ]
        }
      ],
      "source": [
        " documents = preprocessing(documents)\n",
        " print(f'{len(documents)} documents')"
      ]
    },
    {
      "cell_type": "code",
      "source": [
        "df = df.drop('message', axis = 1)"
      ],
      "metadata": {
        "id": "EZSSCrQeXwTK"
      },
      "execution_count": null,
      "outputs": []
    },
    {
      "cell_type": "code",
      "source": [
        "df['message'] = documents"
      ],
      "metadata": {
        "id": "4uNt7JHJYQ6F"
      },
      "execution_count": null,
      "outputs": []
    },
    {
      "cell_type": "code",
      "source": [
        "# Printing unique source-IPs\n",
        "\n",
        "import numpy as np\n",
        "np.unique(df['source_ip'])"
      ],
      "metadata": {
        "colab": {
          "base_uri": "https://localhost:8080/"
        },
        "id": "mkEgAEmRQL-a",
        "outputId": "fbd86781-a3d6-4b9f-8b42-d0ffabdd1d03"
      },
      "execution_count": null,
      "outputs": [
        {
          "output_type": "execute_result",
          "data": {
            "text/plain": [
              "array(['10.208.0.229', '10.228.0.93', '10.228.0.95', '10.228.10.59',\n",
              "       '10.228.10.75', '10.228.11.121', '11.208.0.92', '114.55.9.245',\n",
              "       '195.154.123.130', '51.222.253.11', '54.36.148.129'], dtype=object)"
            ]
          },
          "metadata": {},
          "execution_count": 30
        }
      ]
    },
    {
      "cell_type": "code",
      "source": [
        "# Removal of datapoints with missing important features\n",
        "\n",
        "df = df.dropna()"
      ],
      "metadata": {
        "id": "wm_6TqRYGUlW"
      },
      "execution_count": null,
      "outputs": []
    },
    {
      "cell_type": "code",
      "source": [
        "def remove_empty_list(tag):\n",
        "  if tag == []:\n",
        "    return 'NaN'\n",
        "  return tag[0]\n",
        "\n",
        "df['tags'] = df['tags'].apply(lambda tag: remove_empty_list(tag))"
      ],
      "metadata": {
        "id": "aD4e6qz6GznK"
      },
      "execution_count": null,
      "outputs": []
    },
    {
      "cell_type": "code",
      "source": [
        "df = df[df['tags'] != 'NaN']"
      ],
      "metadata": {
        "id": "a6pGi3qdHJFd"
      },
      "execution_count": null,
      "outputs": []
    },
    {
      "cell_type": "code",
      "source": [
        "df = df.drop_duplicates()"
      ],
      "metadata": {
        "id": "DhHYOWe2F0XK"
      },
      "execution_count": null,
      "outputs": []
    },
    {
      "cell_type": "code",
      "source": [
        "# Splitting dataset into train and test.......\n",
        "\n",
        "X_train, X_test, y_train, y_test = train_test_split(df.message, df.Label, test_size=0.2, random_state=42)"
      ],
      "metadata": {
        "id": "UFssuTMAVhHc"
      },
      "execution_count": null,
      "outputs": []
    },
    {
      "cell_type": "code",
      "execution_count": null,
      "metadata": {
        "id": "W2wvx4GhfFMt"
      },
      "outputs": [],
      "source": [
        "# Relevant Query string for detcting sql injection........\n",
        "\n",
        "query_string = ['waitfor','waitfordelay','union select','union all select', 'order by', 'you have an error', 'unknown column', 'unionselect', 'orderby', 'order by 1', '@@version','@@user', '@@database']\n"
      ]
    },
    {
      "cell_type": "markdown",
      "source": [
        "# **Model Training**"
      ],
      "metadata": {
        "id": "yaX_8BVD_COT"
      }
    },
    {
      "cell_type": "code",
      "source": [
        "import sentence_transformers\n",
        "from sentence_transformers import SentenceTransformer\n",
        "model = SentenceTransformer('paraphrase-MiniLM-L6-v2')"
      ],
      "metadata": {
        "id": "GPY6LrTLOpJa"
      },
      "execution_count": null,
      "outputs": []
    },
    {
      "cell_type": "code",
      "source": [
        "# Embedding..........\n",
        "\n",
        "df['embedded_message'] = df['message'].apply(lambda sentences: model.encode(sentences.lower()))"
      ],
      "metadata": {
        "colab": {
          "base_uri": "https://localhost:8080/"
        },
        "id": "g3myve1qPKCd",
        "outputId": "165fdbca-2f8e-40b2-ba24-fa75a2318696"
      },
      "execution_count": null,
      "outputs": [
        {
          "output_type": "stream",
          "name": "stderr",
          "text": [
            "/usr/local/lib/python3.7/dist-packages/ipykernel_launcher.py:1: SettingWithCopyWarning: \n",
            "A value is trying to be set on a copy of a slice from a DataFrame.\n",
            "Try using .loc[row_indexer,col_indexer] = value instead\n",
            "\n",
            "See the caveats in the documentation: https://pandas.pydata.org/pandas-docs/stable/user_guide/indexing.html#returning-a-view-versus-a-copy\n",
            "  \"\"\"Entry point for launching an IPython kernel.\n"
          ]
        }
      ]
    },
    {
      "cell_type": "code",
      "source": [
        "df['embedded_tags'] = df['tags'].apply(lambda sentences: model.encode(sentences.lower()))"
      ],
      "metadata": {
        "colab": {
          "base_uri": "https://localhost:8080/"
        },
        "id": "aWGkFDgRPL9V",
        "outputId": "5d845d03-90ed-4066-be68-42b1025e3866"
      },
      "execution_count": null,
      "outputs": [
        {
          "output_type": "stream",
          "name": "stderr",
          "text": [
            "/usr/local/lib/python3.7/dist-packages/ipykernel_launcher.py:1: SettingWithCopyWarning: \n",
            "A value is trying to be set on a copy of a slice from a DataFrame.\n",
            "Try using .loc[row_indexer,col_indexer] = value instead\n",
            "\n",
            "See the caveats in the documentation: https://pandas.pydata.org/pandas-docs/stable/user_guide/indexing.html#returning-a-view-versus-a-copy\n",
            "  \"\"\"Entry point for launching an IPython kernel.\n"
          ]
        }
      ]
    },
    {
      "cell_type": "code",
      "execution_count": null,
      "metadata": {
        "id": "meYVV1wQzAZ1"
      },
      "outputs": [],
      "source": [
        "query_string = preprocessing(query_string)"
      ]
    },
    {
      "cell_type": "code",
      "source": [
        "query_string_embeddings = model.encode(query_string)"
      ],
      "metadata": {
        "id": "1LuJ1b2eR-VR"
      },
      "execution_count": null,
      "outputs": []
    },
    {
      "cell_type": "markdown",
      "source": [
        "# **Applying Cosine Similarity**"
      ],
      "metadata": {
        "id": "9XpaxEIi_ed9"
      }
    },
    {
      "cell_type": "code",
      "source": [
        "def similarity_check(sent1,query):\n",
        "  return round(max(max(cosine_similarity([sent1], query))),2)"
      ],
      "metadata": {
        "id": "2am0ZmS-HcuV"
      },
      "execution_count": null,
      "outputs": []
    },
    {
      "cell_type": "code",
      "source": [
        "df['Similarity_score'] = df['embedded_message'].apply(lambda sent: similarity_check(sent,query_string_embeddings[:]))"
      ],
      "metadata": {
        "id": "iSebw5UrHK4I",
        "colab": {
          "base_uri": "https://localhost:8080/"
        },
        "outputId": "e3ab8b8a-32ed-49d8-9828-7cc22afa7414"
      },
      "execution_count": null,
      "outputs": [
        {
          "output_type": "stream",
          "name": "stderr",
          "text": [
            "/usr/local/lib/python3.7/dist-packages/ipykernel_launcher.py:1: SettingWithCopyWarning: \n",
            "A value is trying to be set on a copy of a slice from a DataFrame.\n",
            "Try using .loc[row_indexer,col_indexer] = value instead\n",
            "\n",
            "See the caveats in the documentation: https://pandas.pydata.org/pandas-docs/stable/user_guide/indexing.html#returning-a-view-versus-a-copy\n",
            "  \"\"\"Entry point for launching an IPython kernel.\n"
          ]
        }
      ]
    },
    {
      "cell_type": "code",
      "source": [
        "Similarity_list = df['Similarity_score'].values"
      ],
      "metadata": {
        "id": "gewPk8o4Kz_5"
      },
      "execution_count": null,
      "outputs": []
    },
    {
      "cell_type": "code",
      "source": [
        "Similarity_list"
      ],
      "metadata": {
        "colab": {
          "base_uri": "https://localhost:8080/"
        },
        "id": "9U39_SZDK8Wg",
        "outputId": "fe2024e7-7c93-4bab-e3c1-e1ac49459b5e"
      },
      "execution_count": null,
      "outputs": [
        {
          "output_type": "execute_result",
          "data": {
            "text/plain": [
              "array([0.26, 0.25, 0.47, 0.24, 0.32, 0.24, 0.24, 0.29, 0.28, 0.33, 0.29,\n",
              "       0.33, 0.25, 0.26, 0.26, 0.26, 0.26, 0.26, 0.26, 0.26, 0.26, 0.26,\n",
              "       0.26, 0.25, 0.26, 0.17, 0.18, 0.28, 0.28, 0.32, 0.31, 0.31, 0.17,\n",
              "       0.3 , 0.27, 0.28, 0.31, 0.25, 0.24, 0.24, 0.25, 0.29, 0.25, 0.18,\n",
              "       0.17, 0.31, 0.33, 0.26, 0.3 , 0.29, 0.29, 0.39, 0.32, 0.19, 0.27,\n",
              "       0.19, 0.28, 0.17, 0.27, 0.18, 0.22, 0.28, 0.27, 0.22, 0.22, 0.29,\n",
              "       0.26, 0.26, 0.3 , 0.33, 0.2 , 0.43, 0.33, 0.33, 0.18, 0.24, 0.36,\n",
              "       0.26], dtype=float32)"
            ]
          },
          "metadata": {},
          "execution_count": 48
        }
      ]
    },
    {
      "cell_type": "code",
      "source": [
        "import statistics\n",
        "import numpy as np\n",
        "Similarity_mean = statistics.mean(Similarity_list)\n",
        "Similarity_standard_deviation = np.std(Similarity_list)\n",
        "alpha = 0.1875\n",
        "threshold = Similarity_mean + alpha * Similarity_standard_deviation\n",
        "print(Similarity_mean)\n",
        "print(Similarity_standard_deviation)\n",
        "print(threshold)"
      ],
      "metadata": {
        "colab": {
          "base_uri": "https://localhost:8080/"
        },
        "id": "1rc75YrTKZT-",
        "outputId": "247a3668-bde0-43da-ea91-5b985b2d2437"
      },
      "execution_count": null,
      "outputs": [
        {
          "output_type": "stream",
          "name": "stdout",
          "text": [
            "0.26884615\n",
            "0.05502868\n",
            "0.2791640318464488\n"
          ]
        }
      ]
    },
    {
      "cell_type": "code",
      "source": [
        "result = df[df['Similarity_score'] >= 0.28]"
      ],
      "metadata": {
        "id": "vpMc0uN7NBqV"
      },
      "execution_count": null,
      "outputs": []
    },
    {
      "cell_type": "code",
      "source": [
        "result = result.sort_values('Similarity_score',  ascending=False)"
      ],
      "metadata": {
        "id": "h-TV4t90mFDj"
      },
      "execution_count": null,
      "outputs": []
    },
    {
      "cell_type": "code",
      "source": [
        "final_res = result[['source_ip', 'message', 'Similarity_score']]"
      ],
      "metadata": {
        "id": "Wop1H27ymhLH"
      },
      "execution_count": null,
      "outputs": []
    },
    {
      "cell_type": "code",
      "source": [
        "print(\"Most relevant SQL injection alert from the available dataset: \")\n",
        "print(final_res.head(10))"
      ],
      "metadata": {
        "colab": {
          "base_uri": "https://localhost:8080/"
        },
        "id": "WDiOpaElNpjk",
        "outputId": "7663e161-0ad3-48c1-ede3-21091da9bad7"
      },
      "execution_count": null,
      "outputs": [
        {
          "output_type": "stream",
          "name": "stdout",
          "text": [
            "Most relevant SQL injection alert from the available dataset: \n",
            "          source_ip                                            message  \\\n",
            "3      10.208.0.229  102281393 16aug2021112839 0530 get unionselect...   \n",
            "79      10.228.0.95  102281394 17aug2021162156 0530 get admin http1...   \n",
            "59      10.228.0.95  102281393 16aug2021161415 0530 get admin http1...   \n",
            "85     114.55.9.245  102281394 17aug2021162217 0530 get 3cscript 3e...   \n",
            "77      10.228.0.95  1022810118 17aug2021160122 0530 get union 20al...   \n",
            "54    54.36.148.129  102281393 16aug2021163951 0530 get union http1...   \n",
            "12     10.228.10.59  102281393 16aug2021114005 0530 get union http1...   \n",
            "14     10.228.10.75  102281393 16aug2021113713 0530 get union http1...   \n",
            "81  195.154.123.130  102281394 17aug2021162151 0530 get union http1...   \n",
            "80     114.55.9.245  102281394 17aug2021162200 0530 get sbadmin htt...   \n",
            "\n",
            "    Similarity_score  \n",
            "3               0.47  \n",
            "79              0.43  \n",
            "59              0.39  \n",
            "85              0.36  \n",
            "77              0.33  \n",
            "54              0.33  \n",
            "12              0.33  \n",
            "14              0.33  \n",
            "81              0.33  \n",
            "80              0.33  \n"
          ]
        }
      ]
    },
    {
      "cell_type": "code",
      "source": [
        "test_data_accuracy = round(df['tags'].eq(result['tags']).mean(),2)*100"
      ],
      "metadata": {
        "id": "hn3EoKNxm5vn"
      },
      "execution_count": null,
      "outputs": []
    },
    {
      "cell_type": "code",
      "source": [
        "print(\"Accuracy of the SQL Injection alert detection: \", test_data_accuracy)"
      ],
      "metadata": {
        "colab": {
          "base_uri": "https://localhost:8080/"
        },
        "id": "P7oyhh59nPJ8",
        "outputId": "5d2eaf68-69ab-4b8c-bad1-83a7febb4ffb"
      },
      "execution_count": null,
      "outputs": [
        {
          "output_type": "stream",
          "name": "stdout",
          "text": [
            "Accuracy of the SQL Injection alert detection:  74.0\n"
          ]
        }
      ]
    },
    {
      "cell_type": "code",
      "source": [
        ""
      ],
      "metadata": {
        "id": "YDezxEieoae5"
      },
      "execution_count": null,
      "outputs": []
    }
  ],
  "metadata": {
    "colab": {
      "collapsed_sections": [],
      "name": "Classificaton using SBERT and Cosine similarity for SQL Injection Alert Confirmation.ipynb",
      "provenance": []
    },
    "kernelspec": {
      "display_name": "Python 3",
      "name": "python3"
    },
    "language_info": {
      "name": "python"
    }
  },
  "nbformat": 4,
  "nbformat_minor": 0
}